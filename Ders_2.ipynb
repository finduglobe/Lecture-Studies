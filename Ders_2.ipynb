{
 "cells": [
  {
   "cell_type": "code",
   "execution_count": 14,
   "metadata": {},
   "outputs": [
    {
     "name": "stdout",
     "output_type": "stream",
     "text": [
      "[[1 2 3]]\n"
     ]
    }
   ],
   "source": [
    "import scipy as sc\n",
    "import scipy as np\n",
    "\n",
    "\n",
    "array1=np.array ([(1,2,3)])\n",
    "print(array1)"
   ]
  },
  {
   "cell_type": "code",
   "execution_count": 13,
   "metadata": {},
   "outputs": [
    {
     "name": "stdout",
     "output_type": "stream",
     "text": [
      "[ 0.   2.5  5.   7.5 10. ] \n",
      "\n",
      "[0.  0.5 1. ] \n",
      "\n"
     ]
    }
   ],
   "source": [
    "array2=np.linspace(0,10,5)\n",
    "print(array2,'\\n')\n",
    "array22=np.linspace(0,1,3)\n",
    "print(array22,'\\n')"
   ]
  },
  {
   "cell_type": "code",
   "execution_count": 15,
   "metadata": {},
   "outputs": [
    {
     "name": "stdout",
     "output_type": "stream",
     "text": [
      "[0 1 2 3 4 5 6 7 8 9] \n",
      "\n",
      "[0.  0.5 1.  1.5 2.  2.5 3.  3.5 4.  4.5] \n",
      "\n",
      "[0 1 2 3 4] \n",
      "\n",
      "[0 1 2 3 4 5 6 7 8 9] \n",
      "\n"
     ]
    }
   ],
   "source": [
    "array3=np.arange(0,10,1)\n",
    "print(array3,'\\n')\n",
    "array4=np.arange(0,5,0.5)\n",
    "print(array4, '\\n')\n",
    "array44=np.arange(5)\n",
    "print(array44, '\\n')\n",
    "print(np.arange(10), '\\n')"
   ]
  },
  {
   "cell_type": "code",
   "execution_count": 16,
   "metadata": {},
   "outputs": [
    {
     "name": "stdout",
     "output_type": "stream",
     "text": [
      "[0. 0. 0. 0. 0.] \n",
      "\n",
      "[1. 1. 1.] \n",
      "\n"
     ]
    }
   ],
   "source": [
    "array5=np.zeros(5)\n",
    "print(array5, '\\n')\n",
    "array6=np.ones(3)\n",
    "print(array6, '\\n')"
   ]
  },
  {
   "cell_type": "code",
   "execution_count": 17,
   "metadata": {},
   "outputs": [
    {
     "name": "stdout",
     "output_type": "stream",
     "text": [
      "[-2. -1.  0.  1.  2.  3.] \n",
      "\n",
      "[0. 1. 2. 3. 4. 5.] \n",
      "\n",
      "[-3. -2. -1.  0.  1.  2.] \n",
      "\n",
      "[-6. -3.  0.  3.  6.  9.] \n",
      "\n",
      "[-1.  -0.5  0.   0.5  1.   1.5] \n",
      "\n",
      "[16.  1.  0.  1. 16. 81.] \n",
      "\n",
      "[ 0.  5. 10. 15. 20. 25.] \n",
      "\n",
      "[-0.90929743 -0.84147098  0.          0.84147098  0.90929743  0.14112001] \n",
      "\n",
      "[-0.41614684  0.54030231  1.          0.54030231 -0.41614684 -0.9899925 ] \n",
      "\n"
     ]
    }
   ],
   "source": [
    "array7=np.linspace(-2,3,6)\n",
    "print(array7, '\\n')\n",
    "print(array7+2, '\\n')\n",
    "print(array7-1, '\\n')\n",
    "print(array7*3, '\\n')\n",
    "print(array7/2, '\\n')\n",
    "print(array7**4, '\\n')\n",
    "print((array7+2)*5, '\\n')\n",
    "print(np.sin(array7), '\\n')\n",
    "print(np.cos(array7), '\\n')"
   ]
  },
  {
   "cell_type": "code",
   "execution_count": 18,
   "metadata": {},
   "outputs": [
    {
     "name": "stdout",
     "output_type": "stream",
     "text": [
      "[ 60  80 100] \n",
      "\n",
      "[40 40 40] \n",
      "\n",
      "[-40 -40 -40] \n",
      "\n",
      "[ 500 1200 2100] \n",
      "\n",
      "[5.         3.         2.33333333] \n",
      "\n"
     ]
    }
   ],
   "source": [
    "array8=np.array([10,20,30])\n",
    "array9=np.array([50,60,70])\n",
    "result1=array8+array9\n",
    "print(result1, '\\n')\n",
    "print(array9-array8, '\\n')\n",
    "print(array8-array9, '\\n')\n",
    "print(array8*array9, '\\n')\n",
    "print(array9/array8, '\\n')"
   ]
  },
  {
   "cell_type": "code",
   "execution_count": 19,
   "metadata": {},
   "outputs": [
    {
     "name": "stdout",
     "output_type": "stream",
     "text": [
      "[[1 2 3]\n",
      " [4 5 6]] \n",
      "\n",
      "[[1 1 1]\n",
      " [2 2 2]\n",
      " [3 3 3]] \n",
      "\n"
     ]
    }
   ],
   "source": [
    "array10=np.array([[1,2,3],[4,5,6]])\n",
    "print(array10, '\\n')\n",
    "array11=np.array([[1,1,1],[2,2,2],[3,3,3]])\n",
    "print(array11, '\\n')"
   ]
  },
  {
   "cell_type": "code",
   "execution_count": 20,
   "metadata": {},
   "outputs": [
    {
     "name": "stdout",
     "output_type": "stream",
     "text": [
      "[[[1. 0. 0.]\n",
      "  [0. 1. 0.]\n",
      "  [0. 0. 1.]]] \n",
      "\n"
     ]
    }
   ],
   "source": [
    "array12=np.array([np.eye(3)])\n",
    "print(array12, '\\n')"
   ]
  },
  {
   "cell_type": "code",
   "execution_count": 24,
   "metadata": {},
   "outputs": [
    {
     "name": "stdout",
     "output_type": "stream",
     "text": [
      "[0 1 2 3 4 5 6 7] \n",
      "\n",
      "[[0 1 2 3]\n",
      " [4 5 6 7]] \n",
      "\n",
      "[[0 1]\n",
      " [2 3]\n",
      " [4 5]\n",
      " [6 7]] \n",
      "\n",
      "[[0 1]\n",
      " [2 3]\n",
      " [4 5]\n",
      " [6 7]] \n",
      "\n",
      "[[0 1 2 3]\n",
      " [4 5 6 7]] \n",
      "\n"
     ]
    }
   ],
   "source": [
    "array13=np.arange(8)\n",
    "print(array13, '\\n')\n",
    "array14=np.reshape(array13,(2,4))\n",
    "print(array14, '\\n')\n",
    "print(np.reshape(array13,(4,2)), '\\n')\n",
    "print(np.reshape(np.arange(8),(4,2)), '\\n')\n",
    "print(np.reshape(array13,(2,4)), '\\n')"
   ]
  },
  {
   "cell_type": "code",
   "execution_count": 25,
   "metadata": {},
   "outputs": [
    {
     "name": "stdout",
     "output_type": "stream",
     "text": [
      "[[1 4 5]\n",
      " [2 3 6]] \n",
      "\n",
      "[[3 6 7]\n",
      " [4 5 8]] \n",
      "\n",
      "[[-2  1  2]\n",
      " [-1  0  3]] \n",
      "\n",
      "[[ 5 20 25]\n",
      " [10 15 30]] \n",
      "\n",
      "[[2.         0.5        0.4       ]\n",
      " [1.         0.66666667 0.33333333]] \n",
      "\n",
      "[[  1  64 125]\n",
      " [  8  27 216]] \n",
      "\n",
      "[[ 0.54030231 -0.65364362  0.28366219]\n",
      " [-0.41614684 -0.9899925   0.96017029]] \n",
      "\n"
     ]
    }
   ],
   "source": [
    "array15=np.array([[1,4,5],[2,3,6]])\n",
    "\n",
    "print(array15, '\\n')\n",
    "print(array15+2, '\\n')\n",
    "print(array15-3, '\\n')\n",
    "print(array15*5, '\\n')\n",
    "print(2/array15, '\\n')\n",
    "print(array15**3, '\\n')\n",
    "print(np.cos(array15), '\\n')"
   ]
  },
  {
   "cell_type": "code",
   "execution_count": 29,
   "metadata": {},
   "outputs": [
    {
     "name": "stdout",
     "output_type": "stream",
     "text": [
      "[[1. 2. 3.]\n",
      " [4. 5. 6.]] \n",
      "\n",
      "[[1 2]\n",
      " [3 4]\n",
      " [5 6]] \n",
      "\n",
      "[[22. 28.]\n",
      " [49. 64.]] \n",
      "\n"
     ]
    }
   ],
   "source": [
    "array16=np.array([[1.,2.,3.],[4.,5.,6.]])\n",
    "print(array16, '\\n')\n",
    "array166=np.array([[1,2],[3,4],[5,6]])\n",
    "print(array166, '\\n')\n",
    "print(np.dot(array16,array166), '\\n')"
   ]
  },
  {
   "cell_type": "code",
   "execution_count": 30,
   "metadata": {},
   "outputs": [
    {
     "name": "stdout",
     "output_type": "stream",
     "text": [
      "[[0.92109412 0.6149795  0.3507593  0.42311486]\n",
      " [0.3781971  0.79621521 0.87326348 0.9271254 ]] \n",
      "\n",
      "[[0.79568842 0.73208855 0.4177041  0.3755449 ]\n",
      " [0.86568548 0.28752075 0.05246134 0.67346188]] \n",
      "\n"
     ]
    }
   ],
   "source": [
    "array18=sc.rand(8)\n",
    "print(np.array(np.reshape((array18),(2,4))),'\\n')\n",
    "array19=print(np.array(np.reshape((sc.rand(8)),(2,4))),'\\n')"
   ]
  },
  {
   "cell_type": "code",
   "execution_count": null,
   "metadata": {},
   "outputs": [],
   "source": [
    "array20=np.array([[1,2,3],[4,5,6],[7,8,9]])\n",
    "print(array20, '\\n')\n",
    "print(array20 [0,:], '\\n')\n",
    "print(array20 [1,:], '\\n')\n",
    "printyt"
   ]
  }
 ],
 "metadata": {
  "kernelspec": {
   "display_name": "Python 3",
   "language": "python",
   "name": "python3"
  },
  "language_info": {
   "codemirror_mode": {
    "name": "ipython",
    "version": 3
   },
   "file_extension": ".py",
   "mimetype": "text/x-python",
   "name": "python",
   "nbconvert_exporter": "python",
   "pygments_lexer": "ipython3",
   "version": "3.6.7"
  }
 },
 "nbformat": 4,
 "nbformat_minor": 2
}
